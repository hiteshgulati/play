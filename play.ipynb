{
 "cells": [
  {
   "cell_type": "code",
   "execution_count": 16,
   "metadata": {},
   "outputs": [],
   "source": [
    "import investpy\n",
    "import pandas as pd\n",
    "from pandas_datareader import data\n",
    "import yfinance as yf"
   ]
  },
  {
   "cell_type": "code",
   "execution_count": 14,
   "metadata": {},
   "outputs": [
    {
     "name": "stdout",
     "output_type": "stream",
     "text": [
      "             High  Low   Open      Close  Volume  Adj Close\n",
      "Date                                                       \n",
      "2022-10-06  50.75   50  50.25  50.700001     117  50.700001\n"
     ]
    }
   ],
   "source": [
    "df = data.get_data_yahoo('ICICI5GSEC.NS')\n",
    "print(df.head())"
   ]
  },
  {
   "cell_type": "code",
   "execution_count": 25,
   "metadata": {},
   "outputs": [
    {
     "name": "stdout",
     "output_type": "stream",
     "text": [
      "[*********************100%***********************]  1 of 1 completed\n"
     ]
    },
    {
     "data": {
      "text/html": [
       "<div>\n",
       "<style scoped>\n",
       "    .dataframe tbody tr th:only-of-type {\n",
       "        vertical-align: middle;\n",
       "    }\n",
       "\n",
       "    .dataframe tbody tr th {\n",
       "        vertical-align: top;\n",
       "    }\n",
       "\n",
       "    .dataframe thead th {\n",
       "        text-align: right;\n",
       "    }\n",
       "</style>\n",
       "<table border=\"1\" class=\"dataframe\">\n",
       "  <thead>\n",
       "    <tr style=\"text-align: right;\">\n",
       "      <th></th>\n",
       "      <th>Open</th>\n",
       "      <th>High</th>\n",
       "      <th>Low</th>\n",
       "      <th>Close</th>\n",
       "      <th>Adj Close</th>\n",
       "      <th>Volume</th>\n",
       "    </tr>\n",
       "  </thead>\n",
       "  <tbody>\n",
       "    <tr>\n",
       "      <th>2022-07-25 09:15:00+05:30</th>\n",
       "      <td>51.000000</td>\n",
       "      <td>51.000000</td>\n",
       "      <td>50.000000</td>\n",
       "      <td>50.009998</td>\n",
       "      <td>50.009998</td>\n",
       "      <td>0</td>\n",
       "    </tr>\n",
       "    <tr>\n",
       "      <th>2022-07-25 10:15:00+05:30</th>\n",
       "      <td>50.990002</td>\n",
       "      <td>50.990002</td>\n",
       "      <td>50.990002</td>\n",
       "      <td>50.990002</td>\n",
       "      <td>50.990002</td>\n",
       "      <td>3</td>\n",
       "    </tr>\n",
       "  </tbody>\n",
       "</table>\n",
       "</div>"
      ],
      "text/plain": [
       "                                Open       High        Low      Close  \\\n",
       "2022-07-25 09:15:00+05:30  51.000000  51.000000  50.000000  50.009998   \n",
       "2022-07-25 10:15:00+05:30  50.990002  50.990002  50.990002  50.990002   \n",
       "\n",
       "                           Adj Close  Volume  \n",
       "2022-07-25 09:15:00+05:30  50.009998       0  \n",
       "2022-07-25 10:15:00+05:30  50.990002       3  "
      ]
     },
     "execution_count": 25,
     "metadata": {},
     "output_type": "execute_result"
    }
   ],
   "source": [
    "data = yf.download(tickers='ICICI5GSEC.NS', period='50d', interval='1h')\n",
    "data.head(2)"
   ]
  },
  {
   "cell_type": "code",
   "execution_count": 29,
   "metadata": {},
   "outputs": [
    {
     "name": "stdout",
     "output_type": "stream",
     "text": [
      "exchange NSI\n",
      "shortName ICICIPRAMC - ICICI5GSEC\n",
      "longName Icici Prudential Amc Ltd. - Icici Prudential Mutual Fund - Icici Prudential 5 Year G-Sec ETF\n",
      "exchangeTimezoneName Asia/Kolkata\n",
      "exchangeTimezoneShortName IST\n",
      "isEsgPopulated False\n",
      "gmtOffSetMilliseconds 19800000\n",
      "quoteType EQUITY\n",
      "symbol ICICI5GSEC.NS\n",
      "messageBoardId finmb_1773681836\n",
      "market in_market\n",
      "previousClose 50.17\n",
      "regularMarketOpen 50.25\n",
      "twoHundredDayAverage None\n",
      "trailingAnnualDividendYield 0\n",
      "payoutRatio None\n",
      "volume24Hr None\n",
      "regularMarketDayHigh 50.75\n",
      "navPrice None\n",
      "averageDailyVolume10Day None\n",
      "totalAssets None\n",
      "regularMarketPreviousClose 50.17\n",
      "fiftyDayAverage None\n",
      "trailingAnnualDividendRate 0\n",
      "open 50.25\n",
      "toCurrency None\n",
      "averageVolume10days None\n",
      "expireDate None\n",
      "yield None\n",
      "algorithm None\n",
      "dividendRate None\n",
      "exDividendDate None\n",
      "beta None\n",
      "circulatingSupply None\n",
      "startDate None\n",
      "regularMarketDayLow 50\n",
      "priceHint 2\n",
      "currency INR\n",
      "regularMarketVolume 117\n",
      "lastMarket None\n",
      "maxSupply None\n",
      "openInterest None\n",
      "marketCap None\n",
      "volumeAllCurrencies None\n",
      "strikePrice None\n",
      "averageVolume None\n",
      "priceToSalesTrailing12Months None\n",
      "dayLow 50\n",
      "ask 0\n",
      "ytdReturn None\n",
      "askSize None\n",
      "volume 117\n",
      "fiftyTwoWeekHigh 50.75\n",
      "forwardPE None\n",
      "maxAge 1\n",
      "fromCurrency None\n",
      "fiveYearAvgDividendYield None\n",
      "fiftyTwoWeekLow 50\n",
      "bid 0\n",
      "tradeable False\n",
      "dividendYield None\n",
      "bidSize None\n",
      "dayHigh 50.75\n",
      "coinMarketCapLink None\n",
      "regularMarketPrice 50.7\n",
      "preMarketPrice None\n",
      "logo_url \n"
     ]
    }
   ],
   "source": [
    "etf = yf.Ticker(\"ICICI5GSEC.NS\")\n",
    "for i in etf.info:\n",
    "    print(i,etf.info[i])"
   ]
  },
  {
   "cell_type": "code",
   "execution_count": null,
   "metadata": {},
   "outputs": [],
   "source": []
  }
 ],
 "metadata": {
  "kernelspec": {
   "display_name": "Python 3.10.2 64-bit",
   "language": "python",
   "name": "python3"
  },
  "language_info": {
   "codemirror_mode": {
    "name": "ipython",
    "version": 3
   },
   "file_extension": ".py",
   "mimetype": "text/x-python",
   "name": "python",
   "nbconvert_exporter": "python",
   "pygments_lexer": "ipython3",
   "version": "3.10.2"
  },
  "orig_nbformat": 4,
  "vscode": {
   "interpreter": {
    "hash": "aee8b7b246df8f9039afb4144a1f6fd8d2ca17a180786b69acc140d282b71a49"
   }
  }
 },
 "nbformat": 4,
 "nbformat_minor": 2
}
